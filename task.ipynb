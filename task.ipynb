{
  "nbformat": 4,
  "nbformat_minor": 0,
  "metadata": {
    "colab": {
      "provenance": []
    },
    "kernelspec": {
      "name": "python3",
      "display_name": "Python 3"
    },
    "language_info": {
      "name": "python"
    }
  },
  "cells": [
    {
      "cell_type": "markdown",
      "source": [
        "f(x) = -5x2 + 10x - 150\n",
        "\n",
        "Определить корни\n",
        "\n",
        "Найти интервалы, на которых функция возрастает\n",
        "\n",
        "Найти интервалы, на которых функция убывает\n",
        "\n",
        "Построить график\n",
        "\n",
        "Вычислить вершину\n",
        "\n",
        "Определить промежутки, на котором f > 0\n",
        "\n",
        "Определить промежутки, на котором f < 0"
      ],
      "metadata": {
        "id": "09-tU1GT0pBd"
      }
    },
    {
      "cell_type": "code",
      "source": [
        "import math\n",
        "from sympy import *\n",
        "from sympy.plotting import plot"
      ],
      "metadata": {
        "id": "OA4wQnLu0092"
      },
      "execution_count": 1,
      "outputs": []
    },
    {
      "cell_type": "code",
      "source": [
        "x = Symbol('x')\n",
        "fx = -5 * x ** 2 + 10 * x - 150\n",
        "fx"
      ],
      "metadata": {
        "colab": {
          "base_uri": "https://localhost:8080/",
          "height": 38
        },
        "id": "fMHEmG9B03Rm",
        "outputId": "b86e9a1b-5ccf-4080-c51f-0e78d98040e4"
      },
      "execution_count": 2,
      "outputs": [
        {
          "output_type": "execute_result",
          "data": {
            "text/plain": [
              "-5*x**2 + 10*x - 150"
            ],
            "text/latex": "$\\displaystyle - 5 x^{2} + 10 x - 150$"
          },
          "metadata": {},
          "execution_count": 2
        }
      ]
    },
    {
      "cell_type": "code",
      "source": [
        "p = plot(fx, (x, -30, 30))"
      ],
      "metadata": {
        "colab": {
          "base_uri": "https://localhost:8080/",
          "height": 297
        },
        "id": "k3SNpGEt07cG",
        "outputId": "519136bc-f834-4b8a-a21b-d831f834c9ed"
      },
      "execution_count": 3,
      "outputs": [
        {
          "output_type": "display_data",
          "data": {
            "text/plain": [
              "<Figure size 432x288 with 1 Axes>"
            ],
            "image/png": "[encoded data removed]"
          },
          "metadata": {
            "needs_background": "light"
          }
        }
      ]
    },
    {
      "cell_type": "code",
      "source": [
        "solve(fx)"
      ],
      "metadata": {
        "colab": {
          "base_uri": "https://localhost:8080/"
        },
        "id": "5HzXb9NA1Cgl",
        "outputId": "6235efbb-dbfd-4c96-b978-b89bc71bac2e"
      },
      "execution_count": 4,
      "outputs": [
        {
          "output_type": "execute_result",
          "data": {
            "text/plain": [
              "[1 - sqrt(29)*I, 1 + sqrt(29)*I]"
            ]
          },
          "metadata": {},
          "execution_count": 4
        }
      ]
    },
    {
      "cell_type": "code",
      "source": [
        "diff(fx)"
      ],
      "metadata": {
        "colab": {
          "base_uri": "https://localhost:8080/",
          "height": 38
        },
        "id": "ulcVfznN1E2W",
        "outputId": "08b5ade6-daa4-4efa-9161-92925d5bd2f4"
      },
      "execution_count": 5,
      "outputs": [
        {
          "output_type": "execute_result",
          "data": {
            "text/plain": [
              "10 - 10*x"
            ],
            "text/latex": "$\\displaystyle 10 - 10 x$"
          },
          "metadata": {},
          "execution_count": 5
        }
      ]
    },
    {
      "cell_type": "code",
      "source": [
        "apex = solve(diff(fx))[0]\n",
        "print(apex)"
      ],
      "metadata": {
        "colab": {
          "base_uri": "https://localhost:8080/"
        },
        "id": "QQ2QSNqN1HFG",
        "outputId": "dd0dc4bd-8d77-40e6-9e6b-3528001a97d3"
      },
      "execution_count": 6,
      "outputs": [
        {
          "output_type": "stream",
          "name": "stdout",
          "text": [
            "1\n"
          ]
        }
      ]
    },
    {
      "cell_type": "code",
      "source": [
        "solve(diff(fx) > 0)"
      ],
      "metadata": {
        "colab": {
          "base_uri": "https://localhost:8080/",
          "height": 38
        },
        "id": "TpPM4QZJ1JH-",
        "outputId": "7d9810e1-7b83-4f63-8142-2e2bce89d9fb"
      },
      "execution_count": 7,
      "outputs": [
        {
          "output_type": "execute_result",
          "data": {
            "text/plain": [
              "(-oo < x) & (x < 1)"
            ],
            "text/latex": "$\\displaystyle -\\infty < x \\wedge x < 1$"
          },
          "metadata": {},
          "execution_count": 7
        }
      ]
    },
    {
      "cell_type": "code",
      "source": [
        "solve(diff(fx) < 0)"
      ],
      "metadata": {
        "colab": {
          "base_uri": "https://localhost:8080/",
          "height": 38
        },
        "id": "1p4Kmpxp1Li2",
        "outputId": "e520a821-825d-43b7-f2b4-02c02c0abd27"
      },
      "execution_count": 8,
      "outputs": [
        {
          "output_type": "execute_result",
          "data": {
            "text/plain": [
              "(1 < x) & (x < oo)"
            ],
            "text/latex": "$\\displaystyle 1 < x \\wedge x < \\infty$"
          },
          "metadata": {},
          "execution_count": 8
        }
      ]
    },
    {
      "cell_type": "code",
      "source": [
        "solve(fx > 0)"
      ],
      "metadata": {
        "colab": {
          "base_uri": "https://localhost:8080/",
          "height": 37
        },
        "id": "NwDYzkVK1M69",
        "outputId": "c77d9119-8fe1-437a-c289-c363a874044d"
      },
      "execution_count": 9,
      "outputs": [
        {
          "output_type": "execute_result",
          "data": {
            "text/plain": [
              "False"
            ],
            "text/latex": "$\\displaystyle \\text{False}$"
          },
          "metadata": {},
          "execution_count": 9
        }
      ]
    },
    {
      "cell_type": "code",
      "source": [
        "\n",
        "solve(fx < 0)"
      ],
      "metadata": {
        "colab": {
          "base_uri": "https://localhost:8080/",
          "height": 38
        },
        "id": "J9IF3IpE1ONd",
        "outputId": "607fd267-1a4c-4bec-9693-db9dc50f5196"
      },
      "execution_count": 10,
      "outputs": [
        {
          "output_type": "execute_result",
          "data": {
            "text/plain": [
              "(-oo < x) & (x < oo)"
            ],
            "text/latex": "$\\displaystyle -\\infty < x \\wedge x < \\infty$"
          },
          "metadata": {},
          "execution_count": 10
        }
      ]
    },
    {
      "cell_type": "markdown",
      "source": [],
      "metadata": {
        "id": "iotMrbMP0ogO"
      }
    }
  ]
}